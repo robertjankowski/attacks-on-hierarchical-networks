{
 "cells": [
  {
   "cell_type": "code",
   "execution_count": 10,
   "id": "3b44e0d3",
   "metadata": {},
   "outputs": [
    {
     "name": "stdout",
     "output_type": "stream",
     "text": [
      "The autoreload extension is already loaded. To reload it, use:\n",
      "  %reload_ext autoreload\n"
     ]
    }
   ],
   "source": [
    "%load_ext autoreload\n",
    "%autoreload 2\n",
    "\n",
    "import sys\n",
    "sys.path.append('..')\n",
    "\n",
    "from graph_tool.all import *\n",
    "import numpy as np\n",
    "import matplotlib.pyplot as plt\n",
    "\n",
    "from scripts.generate_network import barabasi_albert\n",
    "from scripts.hrg import *\n",
    "from scripts.random_attacks import *\n",
    "from scripts import visualization as viz\n",
    "\n",
    "viz.load_matplotlib()\n",
    "plt = viz.plt\n",
    "plt.style.use('seaborn-poster')"
   ]
  },
  {
   "cell_type": "code",
   "execution_count": 2,
   "id": "bb4c9112",
   "metadata": {},
   "outputs": [
    {
     "name": "stdout",
     "output_type": "stream",
     "text": [
      "5.99975\n"
     ]
    }
   ],
   "source": [
    "dendrogram = load_dendrogram('../data/community_hrg.txt')\n",
    "print(avg_degree(dendrogram))\n",
    "g = generate_hrg(dendrogram)"
   ]
  },
  {
   "cell_type": "code",
   "execution_count": 3,
   "id": "f899c86f",
   "metadata": {},
   "outputs": [
    {
     "data": {
      "text/plain": [
       "(5.9535, 0.027007146623625383)"
      ]
     },
     "execution_count": 3,
     "metadata": {},
     "output_type": "execute_result"
    }
   ],
   "source": [
    "vertex_average(g, \"total\")"
   ]
  },
  {
   "cell_type": "code",
   "execution_count": 4,
   "id": "7450b09a",
   "metadata": {},
   "outputs": [
    {
     "name": "stdout",
     "output_type": "stream",
     "text": [
      "[8 7 6 ... 2 6 3]\n"
     ]
    }
   ],
   "source": [
    "pos = sfdp_layout(g)\n",
    "\n",
    "deg = g.degree_property_map(\"total\")\n",
    "print(deg.a)\n",
    "deg.a = 4 * (np.sqrt(deg.a) * 0.5 + 0.4)\n",
    "\n",
    "# graph_draw(g, pos=pos, vertex_size=deg, output=\"../plots/hrg_test_large.pdf\")"
   ]
  },
  {
   "cell_type": "code",
   "execution_count": 6,
   "id": "da63be65",
   "metadata": {},
   "outputs": [
    {
     "name": "stderr",
     "output_type": "stream",
     "text": [
      "\r",
      "  0%|          | 0/50 [00:00<?, ?it/s]"
     ]
    },
    {
     "name": "stdout",
     "output_type": "stream",
     "text": [
      "N = 8000, k = 2.019\n",
      "1\n"
     ]
    },
    {
     "name": "stderr",
     "output_type": "stream",
     "text": [
      "100%|██████████| 50/50 [12:42<00:00, 15.25s/it]\n"
     ]
    }
   ],
   "source": [
    "ps = np.linspace(0, 1, 50)\n",
    "\n",
    "dendrogram = load_dendrogram('../data/community_hrg_k_2.txt')\n",
    "\n",
    "N = total_size(dendrogram)\n",
    "k = avg_degree(dendrogram)\n",
    "print(f'N = {N}, k = {k}')\n",
    "p_er = k / N\n",
    "m = round(k / 2)\n",
    "print(m)\n",
    "ntimes = 100\n",
    "type = 'edge'\n",
    "\n",
    "# mean_sizes_ba, std_sizes_ba = simulate_attack_barabasi_albert(N, ps, m=m, ntimes=ntimes, type=type)\n",
    "# save_output(mean_sizes_ba, std_sizes_ba, f'../data/random_attack_edge_BA_N={N}_k={k}_ntimes={ntimes}.csv')\n",
    "\n",
    "# mean_sizes_er, std_sizes_er = simulate_attack_erdos_renyi(N, p_er, ps, ntimes=ntimes, type=type)\n",
    "# save_output(mean_sizes_er, std_sizes_er, f'../data/random_attack_edge_ER_N={N}_k={k}_ntimes={ntimes}.csv')\n",
    "\n",
    "mean_sizes_hrg, std_sizes_hrg = simulate_attack_hrg('../data/community_hrg_k_2.txt', \n",
    "                                                    ps, ntimes=ntimes, type=type)\n",
    "save_output(mean_sizes_hrg, std_sizes_hrg, f'../data/random_attack_edge_HRG_1_N={N}_k={k}_ntimes={ntimes}.csv')\n",
    "\n",
    "# mean_sizes_hrg, std_sizes_hrg = simulate_attack_hrg('../data/not_community_hrg.txt', \n",
    "#                                                     ps, ntimes=ntimes, type=type)\n",
    "# save_output(mean_sizes_hrg, std_sizes_hrg, f'../data/random_attack_edge_HRG_2_N={N}_k={k}_ntimes={ntimes}.csv')"
   ]
  },
  {
   "cell_type": "code",
   "execution_count": 7,
   "id": "4054e7b5",
   "metadata": {},
   "outputs": [
    {
     "data": {
      "image/png": "[encoded data removed]",
      "text/plain": [
       "<Figure size 432x288 with 1 Axes>"
      ]
     },
     "metadata": {
      "needs_background": "light"
     },
     "output_type": "display_data"
    }
   ],
   "source": [
    "%matplotlib inline\n",
    "from matplotlib import rc\n",
    "rc('text', usetex=False) \n",
    "\n",
    "plt.errorbar(ps, mean_sizes_ba, yerr=std_sizes_ba, fmt='-', label='BA', color='xkcd:red')\n",
    "plt.errorbar(ps, mean_sizes_er, yerr=std_sizes_er, fmt='-', label='ER', color='xkcd:blue')\n",
    "plt.errorbar(ps, mean_sizes_hrg, yerr=std_sizes_hrg, fmt='-', label='HRG', color='xkcd:green')\n",
    "\n",
    "plt.ylim(-0.05, 1.05)\n",
    "plt.ylabel('$N^*/N$', fontsize=18)\n",
    "plt.xlabel('$p^*$', fontsize=18)\n",
    "plt.legend()\n",
    "plt.show()"
   ]
  },
  {
   "cell_type": "code",
   "execution_count": 8,
   "id": "4f0196da",
   "metadata": {},
   "outputs": [
    {
     "name": "stderr",
     "output_type": "stream",
     "text": [
      "\r",
      "  0%|          | 0/50 [00:00<?, ?it/s]"
     ]
    },
    {
     "name": "stdout",
     "output_type": "stream",
     "text": [
      "N = 8000, k = 2.019\n",
      "1\n"
     ]
    },
    {
     "name": "stderr",
     "output_type": "stream",
     "text": [
      "100%|██████████| 50/50 [15:21<00:00, 18.43s/it]\n",
      "100%|██████████| 50/50 [12:13<00:00, 14.67s/it]\n",
      "100%|██████████| 50/50 [25:56<00:00, 31.12s/it]\n"
     ]
    }
   ],
   "source": [
    "ps = np.linspace(0, 1, 50)\n",
    "\n",
    "dendrogram = load_dendrogram('../data/community_hrg_k_2.txt')\n",
    "\n",
    "N = total_size(dendrogram)\n",
    "k = avg_degree(dendrogram)\n",
    "print(f'N = {N}, k = {k}')\n",
    "p_er = k / N\n",
    "m = round(k / 2)\n",
    "print(m)\n",
    "ntimes = 100\n",
    "\n",
    "mean_sizes_ba, std_sizes_ba = simulate_attack_barabasi_albert(N, ps, m=m, ntimes=ntimes, random_attack=False)\n",
    "save_output(mean_sizes_ba, std_sizes_ba, f'../data/intentional_attack_edge_BA_N={N}_k={k}_ntimes={ntimes}.csv')\n",
    "\n",
    "mean_sizes_er, std_sizes_er = simulate_attack_erdos_renyi(N, p_er, ps, ntimes=ntimes, random_attack=False)\n",
    "save_output(mean_sizes_er, std_sizes_er, f'../data/intentional_attack_edge_ER_N={N}_k={k}_ntimes={ntimes}.csv')\n",
    "\n",
    "mean_sizes_hrg, std_sizes_hrg = simulate_attack_hrg('../data/community_hrg_k_2.txt', \n",
    "                                                    ps, ntimes=ntimes, random_attack=False)\n",
    "save_output(mean_sizes_hrg, std_sizes_hrg, f'../data/intentional_attack_edge_HRG_1_N={N}_k={k}_ntimes={ntimes}.csv')\n",
    "\n",
    "# mean_sizes_hrg, std_sizes_hrg = simulate_attack_hrg('../data/not_community_hrg_large.txt', \n",
    "#                                                     ps, ntimes=ntimes, random_attack=False)\n",
    "# save_output(mean_sizes_hrg, std_sizes_hrg, f'../data/intentional_attack_edge_HRG_2_N={N}_k={k}_ntimes={ntimes}.csv')"
   ]
  },
  {
   "cell_type": "code",
   "execution_count": 34,
   "id": "7d8c819a",
   "metadata": {},
   "outputs": [
    {
     "name": "stderr",
     "output_type": "stream",
     "text": [
      "  5%|▌         | 1/20 [00:00<00:02,  6.50it/s]"
     ]
    },
    {
     "name": "stdout",
     "output_type": "stream",
     "text": [
      "N = 8000, k = 5.00075\n"
     ]
    },
    {
     "name": "stderr",
     "output_type": "stream",
     "text": [
      "100%|██████████| 20/20 [00:21<00:00,  1.09s/it]\n",
      "100%|██████████| 20/20 [00:15<00:00,  1.30it/s]\n",
      "100%|██████████| 20/20 [00:42<00:00,  2.14s/it]\n"
     ]
    }
   ],
   "source": [
    "ps = np.linspace(0, 1, 20)\n",
    "\n",
    "N = total_size(dendrogram)\n",
    "k = avg_degree(dendrogram)\n",
    "print(f'N = {N}, k = {k}')\n",
    "p_er = k / N\n",
    "m = round(k / 2)\n",
    "ntimes = 5\n",
    "\n",
    "# mean_sizes_ba, std_sizes_ba = simulate_attack_barabasi_albert(N, ps, m=m, random_attack=False, ntimes=ntimes)\n",
    "# mean_sizes_er, std_sizes_er = simulate_attack_erdos_renyi(N, p_er, ps, random_attack=False, ntimes=ntimes)\n",
    "# mean_sizes_hrg, std_sizes_hrg = simulate_attack_hrg('../data/not_community_hrg_large.txt', ps, \n",
    "#                                                     random_attack=False, ntimes=ntimes)"
   ]
  },
  {
   "cell_type": "code",
   "execution_count": 18,
   "id": "58cb6a5f",
   "metadata": {},
   "outputs": [
    {
     "data": {
      "image/png": "[encoded data removed]",
      "text/plain": [
       "<Figure size 432x288 with 1 Axes>"
      ]
     },
     "metadata": {
      "needs_background": "light"
     },
     "output_type": "display_data"
    }
   ],
   "source": [
    "%matplotlib inline\n",
    "plt.errorbar(ps, mean_sizes_ba, yerr=std_sizes_ba, fmt='-', label='BA', color='xkcd:red')\n",
    "plt.errorbar(ps, mean_sizes_er, yerr=std_sizes_er, fmt='-', label='ER', color='xkcd:blue')\n",
    "plt.errorbar(ps, mean_sizes_hrg, yerr=std_sizes_hrg, fmt='-', label='HRG', color='xkcd:green')\n",
    "\n",
    "plt.ylim(-0.05, 1.05)\n",
    "plt.ylabel('$N^*/N$', fontsize=18)\n",
    "plt.xlabel('$p^*$', fontsize=18)\n",
    "plt.legend()\n",
    "plt.xlim(0, 0.2)\n",
    "plt.show()"
   ]
  }
 ],
 "metadata": {
  "kernelspec": {
   "display_name": "Python 3",
   "language": "python",
   "name": "python3"
  },
  "language_info": {
   "codemirror_mode": {
    "name": "ipython",
    "version": 3
   },
   "file_extension": ".py",
   "mimetype": "text/x-python",
   "name": "python",
   "nbconvert_exporter": "python",
   "pygments_lexer": "ipython3",
   "version": "3.8.6"
  }
 },
 "nbformat": 4,
 "nbformat_minor": 5
}
