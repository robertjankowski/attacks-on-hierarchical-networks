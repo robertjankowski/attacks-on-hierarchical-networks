{
 "cells": [
  {
   "cell_type": "code",
   "execution_count": 43,
   "id": "raising-niger",
   "metadata": {},
   "outputs": [
    {
     "name": "stdout",
     "output_type": "stream",
     "text": [
      "The autoreload extension is already loaded. To reload it, use:\n",
      "  %reload_ext autoreload\n"
     ]
    }
   ],
   "source": [
    "%load_ext autoreload\n",
    "%autoreload 2\n",
    "\n",
    "import sys\n",
    "sys.path.append('..')\n",
    "\n",
    "from graph_tool.all import *\n",
    "import numpy as np\n",
    "import matplotlib.pyplot as plt\n",
    "\n",
    "from scripts.generate_network import barabasi_albert\n",
    "from scripts.hrg import *\n",
    "from scripts.random_attacks import *\n",
    "from scripts import visualization as viz\n",
    "\n",
    "viz.load_matplotlib()\n",
    "plt = viz.plt\n",
    "plt.style.use('seaborn-poster')"
   ]
  },
  {
   "cell_type": "code",
   "execution_count": 25,
   "id": "supreme-jenny",
   "metadata": {},
   "outputs": [],
   "source": [
    "dendrogram = load_dendrogram('../data/community_hrg.txt')\n",
    "g = generate_hrg(dendrogram)"
   ]
  },
  {
   "cell_type": "code",
   "execution_count": 26,
   "id": "straight-purpose",
   "metadata": {},
   "outputs": [
    {
     "data": {
      "text/plain": [
       "<Graph object, undirected, with 8000 vertices and 19981 edges, 1 internal vertex property, at 0x7fac34e68a00>"
      ]
     },
     "execution_count": 26,
     "metadata": {},
     "output_type": "execute_result"
    }
   ],
   "source": [
    "g"
   ]
  },
  {
   "cell_type": "code",
   "execution_count": 27,
   "id": "sapphire-humanitarian",
   "metadata": {},
   "outputs": [
    {
     "name": "stdout",
     "output_type": "stream",
     "text": [
      "[5 4 9 ... 7 2 4]\n"
     ]
    },
    {
     "data": {
      "text/plain": [
       "<VertexPropertyMap object with value type 'vector<double>', for Graph 0x7fac34e68a00, at 0x7fac36004100>"
      ]
     },
     "execution_count": 27,
     "metadata": {},
     "output_type": "execute_result"
    }
   ],
   "source": [
    "pos = sfdp_layout(g)\n",
    "\n",
    "deg = g.degree_property_map(\"total\")\n",
    "print(deg.a)\n",
    "deg.a = 4 * (np.sqrt(deg.a) * 0.5 + 0.4)\n",
    "\n",
    "graph_draw(g, pos=pos, vertex_size=deg, output=\"hrg_test.pdf\")"
   ]
  },
  {
   "cell_type": "code",
   "execution_count": 36,
   "id": "norwegian-pride",
   "metadata": {},
   "outputs": [
    {
     "name": "stderr",
     "output_type": "stream",
     "text": [
      "  5%|▌         | 1/20 [00:00<00:02,  6.98it/s]"
     ]
    },
    {
     "name": "stdout",
     "output_type": "stream",
     "text": [
      "N = 8000, k = 5.00075\n"
     ]
    },
    {
     "name": "stderr",
     "output_type": "stream",
     "text": [
      "100%|██████████| 20/20 [00:03<00:00,  6.13it/s]\n",
      "100%|██████████| 20/20 [00:04<00:00,  4.20it/s]\n",
      "100%|██████████| 20/20 [00:28<00:00,  1.44s/it]\n"
     ]
    }
   ],
   "source": [
    "ps = np.linspace(0, 1, 20)\n",
    "\n",
    "N = total_size(dendrogram)\n",
    "k = avg_degree(dendrogram)\n",
    "print(f'N = {N}, k = {k}')\n",
    "p_er = k / N\n",
    "m = round(k / 2)\n",
    "ntimes = 5\n",
    "type = 'edge'\n",
    "\n",
    "mean_sizes_ba, std_sizes_ba = simulate_attack_barabasi_albert(N, ps, m=m, ntimes=ntimes, type=type)\n",
    "mean_sizes_er, std_sizes_er = simulate_attack_erdos_renyi(N, p_er, ps, ntimes=ntimes, type=type)\n",
    "mean_sizes_hrg, std_sizes_hrg = simulate_attack_hrg('../data/community_hrg.txt', ps, ntimes=ntimes, type=type)"
   ]
  },
  {
   "cell_type": "code",
   "execution_count": 31,
   "id": "brief-kidney",
   "metadata": {},
   "outputs": [
    {
     "data": {
      "image/png": "[encoded data removed]",
      "text/plain": [
       "<Figure size 432x288 with 1 Axes>"
      ]
     },
     "metadata": {
      "needs_background": "light"
     },
     "output_type": "display_data"
    }
   ],
   "source": [
    "%matplotlib inline\n",
    "plt.errorbar(ps, mean_sizes_ba, yerr=std_sizes_ba, fmt='-', label='BA', color='xkcd:red')\n",
    "plt.errorbar(ps, mean_sizes_er, yerr=std_sizes_er, fmt='-', label='ER', color='xkcd:blue')\n",
    "plt.errorbar(ps, mean_sizes_hrg, yerr=std_sizes_hrg, fmt='-', label='HRG', color='xkcd:green')\n",
    "\n",
    "plt.ylim(-0.05, 1.05)\n",
    "plt.ylabel('$N^*/N$', fontsize=18)\n",
    "plt.xlabel('$p^*$', fontsize=18)\n",
    "plt.legend()\n",
    "plt.show()"
   ]
  },
  {
   "cell_type": "code",
   "execution_count": 34,
   "id": "mathematical-interest",
   "metadata": {},
   "outputs": [
    {
     "name": "stderr",
     "output_type": "stream",
     "text": [
      "  5%|▌         | 1/20 [00:00<00:02,  6.50it/s]"
     ]
    },
    {
     "name": "stdout",
     "output_type": "stream",
     "text": [
      "N = 8000, k = 5.00075\n"
     ]
    },
    {
     "name": "stderr",
     "output_type": "stream",
     "text": [
      "100%|██████████| 20/20 [00:21<00:00,  1.09s/it]\n",
      "100%|██████████| 20/20 [00:15<00:00,  1.30it/s]\n",
      "100%|██████████| 20/20 [00:42<00:00,  2.14s/it]\n"
     ]
    }
   ],
   "source": [
    "ps = np.linspace(0, 1, 20)\n",
    "\n",
    "N = total_size(dendrogram)\n",
    "k = avg_degree(dendrogram)\n",
    "print(f'N = {N}, k = {k}')\n",
    "p_er = k / N\n",
    "m = round(k / 2)\n",
    "ntimes = 5\n",
    "\n",
    "mean_sizes_ba, std_sizes_ba = simulate_attack_barabasi_albert(N, ps, m=m, random_attack=False, ntimes=ntimes)\n",
    "mean_sizes_er, std_sizes_er = simulate_attack_erdos_renyi(N, p_er, ps, random_attack=False, ntimes=ntimes)\n",
    "mean_sizes_hrg, std_sizes_hrg = simulate_attack_hrg('../data/community_hrg.txt', ps, \n",
    "                                                    random_attack=False, ntimes=ntimes)"
   ]
  },
  {
   "cell_type": "code",
   "execution_count": 35,
   "id": "binary-doctrine",
   "metadata": {},
   "outputs": [
    {
     "data": {
      "image/png": "[encoded data removed]",
      "text/plain": [
       "<Figure size 432x288 with 1 Axes>"
      ]
     },
     "metadata": {
      "needs_background": "light"
     },
     "output_type": "display_data"
    }
   ],
   "source": [
    "%matplotlib inline\n",
    "plt.errorbar(ps, mean_sizes_ba, yerr=std_sizes_ba, fmt='-', label='BA', color='xkcd:red')\n",
    "plt.errorbar(ps, mean_sizes_er, yerr=std_sizes_er, fmt='-', label='ER', color='xkcd:blue')\n",
    "plt.errorbar(ps, mean_sizes_hrg, yerr=std_sizes_hrg, fmt='-', label='HRG', color='xkcd:green')\n",
    "\n",
    "plt.ylim(-0.05, 1.05)\n",
    "plt.ylabel('$N^*/N$', fontsize=18)\n",
    "plt.xlabel('$p^*$', fontsize=18)\n",
    "plt.legend()\n",
    "plt.show()"
   ]
  },
  {
   "cell_type": "code",
   "execution_count": null,
   "id": "hidden-coverage",
   "metadata": {},
   "outputs": [],
   "source": []
  }
 ],
 "metadata": {
  "kernelspec": {
   "display_name": "Python 3",
   "language": "python",
   "name": "python3"
  },
  "language_info": {
   "codemirror_mode": {
    "name": "ipython",
    "version": 3
   },
   "file_extension": ".py",
   "mimetype": "text/x-python",
   "name": "python",
   "nbconvert_exporter": "python",
   "pygments_lexer": "ipython3",
   "version": "3.8.6"
  }
 },
 "nbformat": 4,
 "nbformat_minor": 5
}
